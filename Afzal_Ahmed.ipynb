{
  "nbformat": 4,
  "nbformat_minor": 0,
  "metadata": {
    "colab": {
      "provenance": []
    },
    "kernelspec": {
      "name": "python3",
      "display_name": "Python 3"
    },
    "language_info": {
      "name": "python"
    }
  },
  "cells": [
    {
      "cell_type": "code",
      "execution_count": 2,
      "metadata": {
        "id": "P55CazH2rkrL"
      },
      "outputs": [],
      "source": [
        "import pandas as pd\n",
        "import numpy as np\n",
        "from sklearn.metrics.pairwise import cosine_similarity\n",
        "from sklearn.preprocessing import MinMaxScaler"
      ]
    },
    {
      "cell_type": "code",
      "source": [
        "# Loading datasets\n",
        "customers = pd.read_csv(\"/content/Customers.csv\")\n",
        "products = pd.read_csv(\"/content/Products.csv\")\n",
        "transactions = pd.read_csv(\"/content/Transactions.csv\")"
      ],
      "metadata": {
        "id": "KRekOneqspFu"
      },
      "execution_count": 3,
      "outputs": []
    },
    {
      "cell_type": "code",
      "source": [
        "# Merging datasets to create a unified view that combines customer, product, and transaction details.\n",
        "merged = transactions.merge(customers, on='CustomerID', how='left').merge(products, on='ProductID', how='left')"
      ],
      "metadata": {
        "id": "Ys5nwIfzs5AL"
      },
      "execution_count": 6,
      "outputs": []
    },
    {
      "cell_type": "code",
      "source": [
        "# Feature Engineering\n",
        "# Ensures 'Price' exists by calculating it if missing\n",
        "if 'Price' not in merged.columns:\n",
        "    merged['Price'] = merged['TotalValue'] / merged['Quantity']"
      ],
      "metadata": {
        "id": "DDc3kdn8s8bz"
      },
      "execution_count": 8,
      "outputs": []
    },
    {
      "cell_type": "code",
      "source": [
        "# Aggregating transaction data per customer\n",
        "customer_features = merged.groupby('CustomerID').agg({\n",
        "    'TotalValue': 'sum',  # Total spending\n",
        "    'Quantity': 'sum',  # Total quantity purchased\n",
        "    'Price': 'mean',  # Average price of purchased items\n",
        "    'Category': lambda x: x.mode()[0] if len(x) > 0 else None  # Most purchased category\n",
        "}).reset_index()"
      ],
      "metadata": {
        "id": "A9uXNR-uBipi"
      },
      "execution_count": 9,
      "outputs": []
    },
    {
      "cell_type": "code",
      "source": [
        "'''One-hot encoding the 'Category' feature -\n",
        " (refers to the process of converting categorical data (like product categories)\n",
        " into a numerical format that machine learning models can process effectively.)'''\n",
        "customer_features = pd.get_dummies(customer_features, columns=['Category'], prefix='Category')"
      ],
      "metadata": {
        "id": "nvuCaR6eBnx6"
      },
      "execution_count": 10,
      "outputs": []
    },
    {
      "cell_type": "code",
      "source": [
        "# Normalizing numerical features\n",
        "scaler = MinMaxScaler()\n",
        "scaled_features = scaler.fit_transform(customer_features.drop(columns=['CustomerID']))"
      ],
      "metadata": {
        "id": "kA3hS00iBrGm"
      },
      "execution_count": 11,
      "outputs": []
    },
    {
      "cell_type": "code",
      "source": [
        "# Calculating Similarities\n",
        "similarity_matrix = cosine_similarity(scaled_features)"
      ],
      "metadata": {
        "id": "omNJDzNEBubm"
      },
      "execution_count": 12,
      "outputs": []
    },
    {
      "cell_type": "code",
      "source": [
        "# Generating Lookalike Recommendations\n",
        "customer_ids = customer_features['CustomerID'].values\n",
        "lookalike_results = []\n",
        "for i, cust_id in enumerate(customer_ids[:20]):  # Limiting to first 20 customers (C0001-C0020)\n",
        "    # Getting similarity scores for current customer\n",
        "    scores = list(enumerate(similarity_matrix[i]))\n",
        "    # Sorting by similarity score (excluding the customer itself)\n",
        "    scores = sorted(scores, key=lambda x: x[1], reverse=True)\n",
        "    scores = [(customer_ids[j], score) for j, score in scores if customer_ids[j] != cust_id]\n",
        "    # Taking top 3 most similar customers\n",
        "    top_3 = scores[:3]\n",
        "    # Appending to results\n",
        "    lookalike_results.append({\n",
        "        \"cust_id\": cust_id,\n",
        "        \"lookalikes\": [(x[0], round(x[1], 2)) for x in top_3]\n",
        "    })"
      ],
      "metadata": {
        "id": "ptsxBlVABw5w"
      },
      "execution_count": 14,
      "outputs": []
    },
    {
      "cell_type": "code",
      "source": [
        "# Creating Lookalike.csv\n",
        "lookalike_df = pd.DataFrame({\n",
        "    \"cust_id\": [res['cust_id'] for res in lookalike_results],\n",
        "    \"lookalikes\": [res['lookalikes'] for res in lookalike_results]\n",
        "})\n",
        "lookalike_df.to_csv(\"Lookalike.csv\", index=False)"
      ],
      "metadata": {
        "id": "Vi1YpPQ1B5jS"
      },
      "execution_count": 15,
      "outputs": []
    },
    {
      "cell_type": "code",
      "source": [
        "# Output example of lookalike results for verification\n",
        "print(lookalike_df.head(20))"
      ],
      "metadata": {
        "colab": {
          "base_uri": "https://localhost:8080/"
        },
        "id": "lKkXZozkB8FR",
        "outputId": "0c46509d-7c61-41af-b35c-375b50177bde"
      },
      "execution_count": 17,
      "outputs": [
        {
          "output_type": "stream",
          "name": "stdout",
          "text": [
            "   cust_id                                     lookalikes\n",
            "0    C0001     [(C0154, 1.0), (C0026, 1.0), (C0069, 1.0)]\n",
            "1    C0002     [(C0029, 1.0), (C0088, 1.0), (C0062, 1.0)]\n",
            "2    C0003     [(C0038, 1.0), (C0160, 1.0), (C0189, 1.0)]\n",
            "3    C0004     [(C0017, 1.0), (C0041, 1.0), (C0175, 1.0)]\n",
            "4    C0005     [(C0192, 1.0), (C0186, 1.0), (C0140, 1.0)]\n",
            "5    C0006     [(C0117, 1.0), (C0139, 1.0), (C0064, 1.0)]\n",
            "6    C0007     [(C0146, 1.0), (C0115, 1.0), (C0050, 1.0)]\n",
            "7    C0008     [(C0113, 1.0), (C0136, 1.0), (C0124, 1.0)]\n",
            "8    C0009   [(C0150, 1.0), (C0198, 0.99), (C0061, 0.99)]\n",
            "9    C0010   [(C0176, 1.0), (C0029, 0.99), (C0144, 0.99)]\n",
            "10   C0011     [(C0139, 1.0), (C0064, 1.0), (C0024, 1.0)]\n",
            "11   C0012     [(C0163, 1.0), (C0182, 1.0), (C0124, 1.0)]\n",
            "12   C0013     [(C0145, 1.0), (C0099, 1.0), (C0200, 1.0)]\n",
            "13   C0014   [(C0097, 1.0), (C0110, 0.99), (C0025, 0.98)]\n",
            "14   C0015  [(C0123, 0.99), (C0131, 0.99), (C0085, 0.99)]\n",
            "15   C0016   [(C0040, 1.0), (C0092, 0.99), (C0056, 0.99)]\n",
            "16   C0017     [(C0004, 1.0), (C0169, 1.0), (C0018, 1.0)]\n",
            "17   C0018     [(C0153, 1.0), (C0057, 1.0), (C0090, 1.0)]\n",
            "18   C0019     [(C0073, 1.0), (C0027, 1.0), (C0174, 1.0)]\n",
            "19   C0020   [(C0130, 1.0), (C0140, 0.99), (C0186, 0.99)]\n"
          ]
        }
      ]
    }
  ]
}